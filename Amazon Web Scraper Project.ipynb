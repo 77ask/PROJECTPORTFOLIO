{
 "cells": [
  {
   "cell_type": "code",
   "execution_count": 1,
   "id": "27ba1af2",
   "metadata": {},
   "outputs": [],
   "source": [
    "# Import Libraries\n",
    "from bs4 import BeautifulSoup\n",
    "import requests\n",
    "import time\n",
    "import datetime\n",
    "\n",
    "import smtplib\n"
   ]
  },
  {
   "cell_type": "code",
   "execution_count": 60,
   "id": "16d69562",
   "metadata": {},
   "outputs": [
    {
     "name": "stdout",
     "output_type": "stream",
     "text": [
      "Someone Awesome Comes Along Graphic Novelty Sarcastic Funny T Shirt\n",
      "17\n",
      "                   \n",
      "                    .\n",
      "99\n",
      "\n",
      "                   17\n",
      "                   \n",
      "                    .\n",
      "                   \n",
      "\n",
      "                   99\n",
      "                  \n"
     ]
    }
   ],
   "source": [
    "# # Connect to Website and pull in data\n",
    "\n",
    "URL = 'https://www.amazon.com/Someone-Amazing-Novelty-Graphic-Sarcastic/dp/B015G0IRTE/ref=sr_1_1_sspa?crid=1WBULAV3FY5VU&keywords=data%2Banalyst%2Btshirt&qid=1683099504&sprefix=data%2Banalyst%2Btshirt%2Caps%2C259&sr=8-1-spons&spLa=ZW5jcnlwdGVkUXVhbGlmaWVyPUEyWkRPQ1gzRkxDU0QmZW5jcnlwdGVkSWQ9QTAwNzE4MjkyODZWQVhaV0tUWENHJmVuY3J5cHRlZEFkSWQ9QTA4NjgyMTUyNFBHT1ZCOExRWllUJndpZGdldE5hbWU9c3BfYXRmJmFjdGlvbj1jbGlja1JlZGlyZWN0JmRvTm90TG9nQ2xpY2s9dHJ1ZQ&th=1&psc=1'\n",
    "\n",
    "headers = {\"User-Agent\": \"Mozilla/5.0 (Windows NT 10.0; Win64; x64) AppleWebKit/537.36 (KHTML, like Gecko) Chrome/78.0.3904.108 Safari/537.36\", \"Accept-Encoding\":\"gzip, deflate\", \"Accept\":\"text/html,application/xhtml+xml,application/xml;q=0.9,*/*;q=0.8\", \"DNT\":\"1\",\"Connection\":\"close\", \"Upgrade-Insecure-Requests\":\"1\"}\n",
    "\n",
    "\n",
    "\n",
    "page= requests.get(URL, headers=headers)\n",
    "soup1 = BeautifulSoup(page.content, \"html.parser\")\n",
    "soup2 = BeautifulSoup(soup1.prettify(),\"html.parser\")\n",
    "title = soup2.find(id='productTitle').get_text()\n",
    "\n",
    "price_dollar = soup2.find(name=\"span\", class_=\"a-price-whole\").getText()\n",
    "price_cents = soup2.find(name=\"span\", class_=\"a-price-fraction\").getText()\n",
    "#total_price = (price_dollar + \".\" + price_cents)\n",
    "\n",
    "total_price = (price_dollar +  price_cents)\n",
    "print(title.strip())\n",
    "print(price_dollar.strip())\n",
    "print(price_cents.strip())\n",
    "\n",
    "\n",
    "print(total_price)\n"
   ]
  },
  {
   "cell_type": "code",
   "execution_count": 61,
   "id": "15c2e885",
   "metadata": {},
   "outputs": [
    {
     "ename": "ValueError",
     "evalue": "could not convert string to float: '17\\n                   \\n                    ..99'",
     "output_type": "error",
     "traceback": [
      "\u001b[1;31m---------------------------------------------------------------------------\u001b[0m",
      "\u001b[1;31mValueError\u001b[0m                                Traceback (most recent call last)",
      "\u001b[1;32m~\\AppData\\Local\\Temp\\ipykernel_24668\\3694521731.py\u001b[0m in \u001b[0;36m<module>\u001b[1;34m\u001b[0m\n\u001b[0;32m      7\u001b[0m \u001b[0mprice_cents_numeric\u001b[0m \u001b[1;33m=\u001b[0m \u001b[0mre\u001b[0m\u001b[1;33m.\u001b[0m\u001b[0msub\u001b[0m\u001b[1;33m(\u001b[0m\u001b[1;34m\"[^0-9.]\"\u001b[0m\u001b[1;33m,\u001b[0m \u001b[1;34m\"\"\u001b[0m\u001b[1;33m,\u001b[0m \u001b[0mprice_cents\u001b[0m\u001b[1;33m)\u001b[0m\u001b[1;33m\u001b[0m\u001b[1;33m\u001b[0m\u001b[0m\n\u001b[0;32m      8\u001b[0m \u001b[1;33m\u001b[0m\u001b[0m\n\u001b[1;32m----> 9\u001b[1;33m \u001b[0mtotal_price\u001b[0m \u001b[1;33m=\u001b[0m \u001b[0mfloat\u001b[0m\u001b[1;33m(\u001b[0m\u001b[0mprice_dollar\u001b[0m \u001b[1;33m+\u001b[0m \u001b[1;34m\".\"\u001b[0m \u001b[1;33m+\u001b[0m \u001b[0mprice_cents_numeric\u001b[0m\u001b[1;33m)\u001b[0m\u001b[1;33m\u001b[0m\u001b[1;33m\u001b[0m\u001b[0m\n\u001b[0m\u001b[0;32m     10\u001b[0m \u001b[0mprint\u001b[0m\u001b[1;33m(\u001b[0m\u001b[0mtotal_price\u001b[0m\u001b[1;33m)\u001b[0m\u001b[1;33m\u001b[0m\u001b[1;33m\u001b[0m\u001b[0m\n",
      "\u001b[1;31mValueError\u001b[0m: could not convert string to float: '17\\n                   \\n                    ..99'"
     ]
    }
   ],
   "source": [
    "import re\n",
    "\n",
    "# Remove whitespace characters from both variables before concatenating\n",
    "price_dollar = price_dollar.strip()\n",
    "\n",
    "# Extract numeric portion of price_cents using regular expression\n",
    "price_cents_numeric = re.sub(\"[^0-9.]\", \"\", price_cents)\n",
    "\n",
    "total_price = float(price_dollar + \".\" + price_cents_numeric)\n",
    "print(total_price)"
   ]
  },
  {
   "cell_type": "code",
   "execution_count": 49,
   "id": "354a0eff",
   "metadata": {},
   "outputs": [
    {
     "name": "stdout",
     "output_type": "stream",
     "text": [
      "17\n",
      "                            \n",
      "                             ..99\n"
     ]
    }
   ],
   "source": [
    "total_price = (price_dollar + \".\" + price_cents)\n",
    "print(total_price)"
   ]
  },
  {
   "cell_type": "code",
   "execution_count": 51,
   "id": "c4ff48ea",
   "metadata": {},
   "outputs": [
    {
     "name": "stdout",
     "output_type": "stream",
     "text": [
      "17\n",
      "                            \n",
      "                             ..99\n"
     ]
    }
   ],
   "source": [
    "import re\n",
    "\n",
    "# Remove whitespace characters from both variables before concatenating\n",
    "price_dollar = price_dollar.strip()\n",
    "\n",
    "# Extract numeric portion of price_cents using regular expression\n",
    "price_cents_numeric = re.sub(\"[^0-9.]\", \"\", price_cents)\n",
    "\n",
    "total_price = (price_dollar + \".\" + price_cents_numeric)\n",
    "print(total_price)"
   ]
  },
  {
   "cell_type": "code",
   "execution_count": 62,
   "id": "c1792d4f",
   "metadata": {},
   "outputs": [
    {
     "ename": "ValueError",
     "evalue": "could not convert string to float: '17\\n                   \\n                    ..99'",
     "output_type": "error",
     "traceback": [
      "\u001b[1;31m---------------------------------------------------------------------------\u001b[0m",
      "\u001b[1;31mValueError\u001b[0m                                Traceback (most recent call last)",
      "\u001b[1;32m~\\AppData\\Local\\Temp\\ipykernel_24668\\1255661979.py\u001b[0m in \u001b[0;36m<module>\u001b[1;34m\u001b[0m\n\u001b[0;32m      6\u001b[0m \u001b[0mprice_cents\u001b[0m \u001b[1;33m=\u001b[0m \u001b[1;34m''\u001b[0m\u001b[1;33m.\u001b[0m\u001b[0mjoin\u001b[0m\u001b[1;33m(\u001b[0m\u001b[0mc\u001b[0m \u001b[1;32mfor\u001b[0m \u001b[0mc\u001b[0m \u001b[1;32min\u001b[0m \u001b[0mprice_cents\u001b[0m \u001b[1;32mif\u001b[0m \u001b[0mc\u001b[0m\u001b[1;33m.\u001b[0m\u001b[0misdigit\u001b[0m\u001b[1;33m(\u001b[0m\u001b[1;33m)\u001b[0m \u001b[1;32mor\u001b[0m \u001b[0mc\u001b[0m \u001b[1;33m==\u001b[0m \u001b[1;34m'.'\u001b[0m\u001b[1;33m)\u001b[0m\u001b[1;33m\u001b[0m\u001b[1;33m\u001b[0m\u001b[0m\n\u001b[0;32m      7\u001b[0m \u001b[1;33m\u001b[0m\u001b[0m\n\u001b[1;32m----> 8\u001b[1;33m \u001b[0mtotal_price\u001b[0m \u001b[1;33m=\u001b[0m \u001b[0mfloat\u001b[0m\u001b[1;33m(\u001b[0m\u001b[0mprice_dollar\u001b[0m \u001b[1;33m+\u001b[0m \u001b[1;34m\".\"\u001b[0m \u001b[1;33m+\u001b[0m \u001b[0mprice_cents\u001b[0m\u001b[1;33m)\u001b[0m\u001b[1;33m\u001b[0m\u001b[1;33m\u001b[0m\u001b[0m\n\u001b[0m\u001b[0;32m      9\u001b[0m \u001b[0mprint\u001b[0m\u001b[1;33m(\u001b[0m\u001b[0mtotal_price\u001b[0m\u001b[1;33m)\u001b[0m\u001b[1;33m\u001b[0m\u001b[1;33m\u001b[0m\u001b[0m\n",
      "\u001b[1;31mValueError\u001b[0m: could not convert string to float: '17\\n                   \\n                    ..99'"
     ]
    }
   ],
   "source": [
    "# Remove whitespace characters from both variables before concatenating\n",
    "price_dollar = price_dollar.strip()\n",
    "price_cents = price_cents.replace('\\n', '').replace(' ', '')\n",
    "\n",
    "# Remove all non-numeric characters from price_cents\n",
    "price_cents = ''.join(c for c in price_cents if c.isdigit() or c == '.')\n",
    "\n",
    "total_price = float(price_dollar + \".\" + price_cents)\n",
    "print(total_price)"
   ]
  },
  {
   "cell_type": "code",
   "execution_count": 63,
   "id": "534b3877",
   "metadata": {},
   "outputs": [],
   "source": [
    "total_price=total_price.strip()"
   ]
  },
  {
   "cell_type": "code",
   "execution_count": 70,
   "id": "dd5afbdf",
   "metadata": {},
   "outputs": [
    {
     "name": "stdout",
     "output_type": "stream",
     "text": [
      "Someone Awesome Comes Along Graphic Novelty Sarcastic Funny T Shirt\n",
      "17\n",
      "                   \n",
      "                    .\n",
      "                   \n",
      "\n",
      "                   99\n"
     ]
    }
   ],
   "source": [
    "title=title.strip()\n",
    "\n",
    "\n",
    "print(title)\n",
    "print(total_price)\n"
   ]
  },
  {
   "cell_type": "code",
   "execution_count": 82,
   "id": "275ac306",
   "metadata": {},
   "outputs": [
    {
     "name": "stdout",
     "output_type": "stream",
     "text": [
      "2023-05-03\n"
     ]
    }
   ],
   "source": [
    "# Create a Timestamp for your output to track when data was collected\n",
    "\n",
    "import datetime\n",
    "\n",
    "today = datetime.date.today()\n",
    "\n",
    "print(today)"
   ]
  },
  {
   "cell_type": "code",
   "execution_count": 72,
   "id": "e9e08ea9",
   "metadata": {},
   "outputs": [
    {
     "name": "stdout",
     "output_type": "stream",
     "text": [
      "17.99\n"
     ]
    }
   ],
   "source": [
    "import re\n",
    "# ...\n",
    "\n",
    "price_dollar = soup2.find(name=\"span\", class_=\"a-price-whole\").getText()\n",
    "price_dollar = re.sub(r'\\D', '', price_dollar)  # remove non-numeric characters\n",
    "price_cents = soup2.find(name=\"span\", class_=\"a-price-fraction\").getText()\n",
    "price_cents = re.sub(r'\\D', '', price_cents)  # remove non-numeric characters\n",
    "\n",
    "total_price = float(f\"{price_dollar}.{price_cents}\")\n",
    "print(total_price)\n"
   ]
  },
  {
   "cell_type": "code",
   "execution_count": 84,
   "id": "b96a2026",
   "metadata": {},
   "outputs": [],
   "source": [
    "# Create CSV and write headers and data into the file\n",
    "\n",
    "import csv \n",
    "\n",
    "header = ['Title', 'Price', 'Date']\n",
    "data = [title,total_price , today]\n",
    "\n",
    "\n",
    "with open(AmazonWebScraperDataset.csv', 'w', newline='', encoding='UTF8') as f:\n",
    "    writer = csv.writer(f)\n",
    "    writer.writerow(header)\n",
    "    writer.writerow(data)\n",
    "    "
   ]
  },
  {
   "cell_type": "code",
   "execution_count": 86,
   "id": "1f7a301a",
   "metadata": {},
   "outputs": [
    {
     "name": "stdout",
     "output_type": "stream",
     "text": [
      "                                               Title  Price        Date\n",
      "0  Someone Awesome Comes Along Graphic Novelty Sa...  17.99  2023-05-03\n"
     ]
    }
   ],
   "source": [
    "import pandas as pd\n",
    "df = pd.read_csv(r'C:\\Users\\mariy\\AmazonWebScraperDataset.csv')\n",
    "print(df)"
   ]
  },
  {
   "cell_type": "code",
   "execution_count": 87,
   "id": "f67d332b",
   "metadata": {},
   "outputs": [],
   "source": [
    "# now we append data to csv\n",
    "with open('AmazonWebScraperDataset.csv', 'a+', newline='', encoding='UTF8') as f:\n",
    "    writer = csv.writer(f)\n",
    "    writer.writerow(data)"
   ]
  },
  {
   "cell_type": "code",
   "execution_count": 89,
   "id": "6d23bb08",
   "metadata": {},
   "outputs": [],
   "source": [
    "#Combine all of the above code into one function\n",
    "\n",
    "\n",
    "def check_price():\n",
    "    URL = 'https://www.amazon.com/Someone-Amazing-Novelty-Graphic-Sarcastic/dp/B015G0IRTE/ref=sr_1_1_sspa?crid=1WBULAV3FY5VU&keywords=data%2Banalyst%2Btshirt&qid=1683099504&sprefix=data%2Banalyst%2Btshirt%2Caps%2C259&sr=8-1-spons&spLa=ZW5jcnlwdGVkUXVhbGlmaWVyPUEyWkRPQ1gzRkxDU0QmZW5jcnlwdGVkSWQ9QTAwNzE4MjkyODZWQVhaV0tUWENHJmVuY3J5cHRlZEFkSWQ9QTA4NjgyMTUyNFBHT1ZCOExRWllUJndpZGdldE5hbWU9c3BfYXRmJmFjdGlvbj1jbGlja1JlZGlyZWN0JmRvTm90TG9nQ2xpY2s9dHJ1ZQ&th=1&psc=1'\n",
    "\n",
    "    headers = {\"User-Agent\": \"Mozilla/5.0 (Windows NT 10.0; Win64; x64) AppleWebKit/537.36 (KHTML, like Gecko) Chrome/78.0.3904.108 Safari/537.36\", \"Accept-Encoding\":\"gzip, deflate\", \"Accept\":\"text/html,application/xhtml+xml,application/xml;q=0.9,*/*;q=0.8\", \"DNT\":\"1\",\"Connection\":\"close\", \"Upgrade-Insecure-Requests\":\"1\"}\n",
    "\n",
    "\n",
    "\n",
    "    page= requests.get(URL, headers=headers)\n",
    "    soup1 = BeautifulSoup(page.content, \"html.parser\")\n",
    "    soup2 = BeautifulSoup(soup1.prettify(),\"html.parser\")\n",
    "    title = soup2.find(id='productTitle').get_text()\n",
    "\n",
    "    price_dollar = soup2.find(name=\"span\", class_=\"a-price-whole\").getText()\n",
    "    price_cents = soup2.find(name=\"span\", class_=\"a-price-fraction\").getText()\n",
    "    title=title.strip()\n",
    "    print(title)\n",
    "    import re\n",
    "    # ...\n",
    "\n",
    "    price_dollar = soup2.find(name=\"span\", class_=\"a-price-whole\").getText()\n",
    "    price_dollar = re.sub(r'\\D', '', price_dollar)  # remove non-numeric characters\n",
    "    price_cents = soup2.find(name=\"span\", class_=\"a-price-fraction\").getText()\n",
    "    price_cents = re.sub(r'\\D', '', price_cents)  # remove non-numeric characters\n",
    "\n",
    "    total_price = float(f\"{price_dollar}.{price_cents}\")\n",
    "    print(total_price)\n",
    "    \n",
    "    import datetime\n",
    "    today = datetime.date.today()\n",
    "    \n",
    "    import csv \n",
    "\n",
    "    header = ['Title', 'Price', 'Date']\n",
    "    data = [title,total_price , today]\n",
    "\n",
    "\n",
    "    with open('AmazonWebScraperDataset.csv', 'w', newline='', encoding='UTF8') as f:\n",
    "       writer = csv.writer(f)\n",
    "       writer.writerow(header)\n",
    "       writer.writerow(data)\n",
    "    \n",
    "    \n",
    "\n",
    "\n",
    "\n",
    "    "
   ]
  },
  {
   "cell_type": "code",
   "execution_count": null,
   "id": "ad05d367",
   "metadata": {},
   "outputs": [],
   "source": [
    "# Runs check_price after a set time and inputs data into your CSV\n",
    "\n",
    "while (True):\n",
    "    check_price()\n",
    "    time.sleep(5)\n"
   ]
  },
  {
   "cell_type": "code",
   "execution_count": null,
   "id": "d036eb80",
   "metadata": {},
   "outputs": [],
   "source": [
    "import pandas as pd\n",
    "df = pd.read_csv(r'C:\\Users\\mariy\\AmazonWebScraperDataset.csv')\n",
    "print(df)"
   ]
  },
  {
   "cell_type": "code",
   "execution_count": null,
   "id": "26fa15b1",
   "metadata": {},
   "outputs": [],
   "source": []
  }
 ],
 "metadata": {
  "kernelspec": {
   "display_name": "Python 3 (ipykernel)",
   "language": "python",
   "name": "python3"
  },
  "language_info": {
   "codemirror_mode": {
    "name": "ipython",
    "version": 3
   },
   "file_extension": ".py",
   "mimetype": "text/x-python",
   "name": "python",
   "nbconvert_exporter": "python",
   "pygments_lexer": "ipython3",
   "version": "3.9.13"
  }
 },
 "nbformat": 4,
 "nbformat_minor": 5
}
